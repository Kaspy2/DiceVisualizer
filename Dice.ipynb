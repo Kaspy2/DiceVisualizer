{
 "cells": [
  {
   "cell_type": "code",
   "execution_count": 307,
   "metadata": {},
   "outputs": [],
   "source": [
    "import numpy as np\n",
    "import matplotlib.pyplot as plt\n",
    "import seaborn as sns\n",
    "import ipywidgets as widgets\n",
    "from IPython.display import clear_output\n",
    "\n",
    "sns.set_style('darkgrid')"
   ]
  },
  {
   "cell_type": "code",
   "execution_count": 333,
   "metadata": {},
   "outputs": [],
   "source": [
    "num_trials = 100000\n",
    "\n",
    "num_dice = 1\n",
    "dice_size = 12\n",
    "\n",
    "rules = {\"drop_highest\": False ,\n",
    "         \"drop_lowest\" : False }\n",
    "\n",
    "def summarize(arr, num_dice=4, dice_size=6, num_trials=100000, rules=rules):\n",
    "    rules2 = [k.replace('_',\" \") for k in rules if rules[k]]\n",
    "    rules2 = \", \".join(rules2)\n",
    "    if len(rules2)>0:\n",
    "        rules2 = \"(\"+rules2+\")\"\n",
    "    print(\"{0}d{1} for {2} trials {3}\".format(num_dice,dice_size,num_trials,rules2))\n",
    "    print(\"Min  :\",arr.min())\n",
    "    print(\"Mean :\",arr.mean())\n",
    "    print(\"+/-  :\",arr.std())\n",
    "    print(\"Max  :\",arr.max())\n",
    "    \n",
    "    num_bins = np.arange(0, dice_size*num_dice)\n",
    "    \n",
    "    plt.figure(figsize=(12,6))\n",
    "    ax = sns.countplot(arr)\n",
    "    plt.xlabel('Total')\n",
    "    plt.ylabel('Frequency')\n",
    "    plt.title(\"{0}d{1} {2}\".format(num_dice,dice_size,rules2))\n",
    "    \n",
    "    for p in ax.patches:\n",
    "        height = p.get_height()\n",
    "        ax.text(p.get_x()+p.get_width()/2.,\n",
    "                height + 30,\n",
    "                '{:1.1f}%'.format(100*height/num_trials),\n",
    "                ha=\"center\") \n",
    "    plt.show()\n",
    "\n",
    "def calculate(num_dice, dice_size, num_trials, rules):\n",
    "    combs = np.random.randint(1, high=dice_size+1, size=(num_trials,num_dice))\n",
    "\n",
    "    if rules[\"drop_lowest\"]:\n",
    "        combs[np.arange(0,num_trials),combs.argmin(axis=1)] = 0\n",
    "    if rules[\"drop_highest\"]:\n",
    "        combs[np.arange(0,num_trials),combs.argmax(axis=1)] = 0\n",
    "\n",
    "    combs = combs.sum(axis=1)\n",
    "\n",
    "    summarize(combs, num_dice, dice_size, num_trials, rules)\n",
    "    \n",
    "# calculate(num_dice, dice_size, num_trials, rules)"
   ]
  },
  {
   "cell_type": "code",
   "execution_count": 357,
   "metadata": {},
   "outputs": [
    {
     "data": {
      "application/vnd.jupyter.widget-view+json": {
       "model_id": "e2220b27b8f144aa8539d9d9f77bb379",
       "version_major": 2,
       "version_minor": 0
      },
      "text/plain": [
       "VBox(children=(HBox(children=(Label(value='Drop Lowest'), Checkbox(value=False))), HBox(children=(Label(value=…"
      ]
     },
     "metadata": {},
     "output_type": "display_data"
    }
   ],
   "source": [
    "%matplotlib inline\n",
    "\n",
    "w_dl_label   = widgets.Label('Drop Lowest')\n",
    "w_drop_l = widgets.Checkbox(False)\n",
    "w_dh_label   = widgets.Label('Drop Highest')\n",
    "w_drop_h = widgets.Checkbox(False)\n",
    "\n",
    "w_num_dice  = widgets.BoundedIntText(value=1,min=1,max=100,step=1,\n",
    "                                    layout=widgets.Layout(width='50px', height='40px'))\n",
    "w_d_label   = widgets.Label('d')\n",
    "w_dice_size = widgets.BoundedIntText(value=6,min=1,max=100,step=1,\n",
    "                                    layout=widgets.Layout(width='50px', height='40px'))\n",
    "\n",
    "w_submit = widgets.Button(description='Go', button_style='success')\n",
    "out      = widgets.Output()\n",
    "\n",
    "def submit_func(b):\n",
    "    out.clear_output()\n",
    "    with out:\n",
    "        num_dice = w_num_dice.value\n",
    "        dice_size = w_dice_size.value\n",
    "        rules = {\"drop_highest\": w_drop_h.value ,\"drop_lowest\" : w_drop_l.value}\n",
    "        \n",
    "        calculate(num_dice, dice_size, num_trials, rules)\n",
    "        \n",
    "        \n",
    "w_submit.on_click(submit_func)\n",
    "\n",
    "front_end = widgets.VBox([widgets.HBox([w_dl_label, w_drop_l]),\n",
    "                          widgets.HBox([w_dh_label, w_drop_h]),\n",
    "                          widgets.HBox([w_num_dice, w_d_label, w_dice_size]),\n",
    "                          w_submit,\n",
    "                          out])\n",
    "\n",
    "clear_output()\n",
    "display(front_end)"
   ]
  },
  {
   "cell_type": "code",
   "execution_count": null,
   "metadata": {},
   "outputs": [],
   "source": []
  }
 ],
 "metadata": {
  "kernelspec": {
   "display_name": "Python 3",
   "language": "python",
   "name": "python3"
  },
  "language_info": {
   "codemirror_mode": {
    "name": "ipython",
    "version": 3
   },
   "file_extension": ".py",
   "mimetype": "text/x-python",
   "name": "python",
   "nbconvert_exporter": "python",
   "pygments_lexer": "ipython3",
   "version": "3.6.8"
  }
 },
 "nbformat": 4,
 "nbformat_minor": 2
}
